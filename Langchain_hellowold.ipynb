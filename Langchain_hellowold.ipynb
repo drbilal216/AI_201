{
  "nbformat": 4,
  "nbformat_minor": 0,
  "metadata": {
    "colab": {
      "provenance": [],
      "authorship_tag": "ABX9TyMXkW9jpaRylCE3BH0fo4Z/",
      "include_colab_link": true
    },
    "kernelspec": {
      "name": "python3",
      "display_name": "Python 3"
    },
    "language_info": {
      "name": "python"
    }
  },
  "cells": [
    {
      "cell_type": "markdown",
      "metadata": {
        "id": "view-in-github",
        "colab_type": "text"
      },
      "source": [
        "<a href=\"https://colab.research.google.com/github/drbilal216/AI_201/blob/main/Langchain_hellowold.ipynb\" target=\"_parent\"><img src=\"https://colab.research.google.com/assets/colab-badge.svg\" alt=\"Open In Colab\"/></a>"
      ]
    },
    {
      "cell_type": "code",
      "execution_count": null,
      "metadata": {
        "id": "vaV-N1qgBqnG"
      },
      "outputs": [],
      "source": []
    },
    {
      "cell_type": "markdown",
      "source": [
        "### All LLM import\n",
        "https://python.langchain.com/v0.1/docs/modules/model_io/chat/function_calling/\n",
        "\n",
        "https://python.langchain.com/docs/integrations/llms/\n",
        "\n",
        "https://python.langchain.com/api_reference/openai/llms/langchain_openai.llms.base.OpenAI.html"
      ],
      "metadata": {
        "id": "6NOsDHZSDzXL"
      }
    },
    {
      "cell_type": "markdown",
      "source": [
        "### OpenAI"
      ],
      "metadata": {
        "id": "f0IOxdJmEHgT"
      }
    },
    {
      "cell_type": "code",
      "source": [
        "!pip install -qU langchain-openai"
      ],
      "metadata": {
        "colab": {
          "base_uri": "https://localhost:8080/"
        },
        "id": "1ORUP9jDCrZ8",
        "outputId": "fd47d081-0cd4-4078-d86a-36b3ca67951f"
      },
      "execution_count": 1,
      "outputs": [
        {
          "output_type": "stream",
          "name": "stdout",
          "text": [
            "\u001b[?25l   \u001b[90m━━━━━━━━━━━━━━━━━━━━━━━━━━━━━━━━━━━━━━━━\u001b[0m \u001b[32m0.0/54.2 kB\u001b[0m \u001b[31m?\u001b[0m eta \u001b[36m-:--:--\u001b[0m\r\u001b[2K   \u001b[90m━━━━━━━━━━━━━━━━━━━━━━━━━━━━━━━━━━━━━━━━\u001b[0m \u001b[32m54.2/54.2 kB\u001b[0m \u001b[31m2.4 MB/s\u001b[0m eta \u001b[36m0:00:00\u001b[0m\n",
            "\u001b[?25h\u001b[?25l   \u001b[90m━━━━━━━━━━━━━━━━━━━━━━━━━━━━━━━━━━━━━━━━\u001b[0m \u001b[32m0.0/1.2 MB\u001b[0m \u001b[31m?\u001b[0m eta \u001b[36m-:--:--\u001b[0m\r\u001b[2K   \u001b[91m━━━━━━━━━━━━━━━━\u001b[0m\u001b[90m╺\u001b[0m\u001b[90m━━━━━━━━━━━━━━━━━━━━━━━\u001b[0m \u001b[32m0.5/1.2 MB\u001b[0m \u001b[31m14.5 MB/s\u001b[0m eta \u001b[36m0:00:01\u001b[0m\r\u001b[2K   \u001b[90m━━━━━━━━━━━━━━━━━━━━━━━━━━━━━━━━━━━━━━━━\u001b[0m \u001b[32m1.2/1.2 MB\u001b[0m \u001b[31m19.1 MB/s\u001b[0m eta \u001b[36m0:00:00\u001b[0m\n",
            "\u001b[?25h"
          ]
        }
      ]
    },
    {
      "cell_type": "code",
      "source": [
        "from google.colab import userdata\n",
        "api_key = userdata.get('OPENAI_API_KEY')"
      ],
      "metadata": {
        "id": "tn0SGqzxwLqQ"
      },
      "execution_count": 6,
      "outputs": []
    },
    {
      "cell_type": "code",
      "source": [
        "from langchain_openai import OpenAI\n",
        "\n",
        "llm = OpenAI(\n",
        "    model=\"gpt-3.5-turbo-instruct\",\n",
        "    api_key=api_key,\n",
        "    temperature=0.5, # (0 = focused, 1 = Determinent)\n",
        "    # stop = 'Stop', # stop sequences that indicate stop generating tokens. eg: use specific strings to signal the end of a response.\n",
        "    # max_retries=2, # number of attempt of request incase of network timeout or rate limit\n",
        "    # timeout = , # maximum time (in seconds) to wait for a response from the model before canceling the request\n",
        "    # rate_limiter = , ?\n",
        "    # base_url = , #\n",
        "    )"
      ],
      "metadata": {
        "id": "h8U6v3dRiJcI"
      },
      "execution_count": 77,
      "outputs": []
    },
    {
      "cell_type": "code",
      "source": [
        "input_text = \"Write a motivational quote in the middle say 'Stop'.\"\n",
        "response = llm.invoke(input_text)"
      ],
      "metadata": {
        "id": "fMkVtEARidJP"
      },
      "execution_count": 78,
      "outputs": []
    },
    {
      "cell_type": "code",
      "source": [
        "print(len(response))"
      ],
      "metadata": {
        "colab": {
          "base_uri": "https://localhost:8080/"
        },
        "id": "0K4on5rQCflq",
        "outputId": "1980c7f8-3705-4eea-d41f-5290e576f852"
      },
      "execution_count": 85,
      "outputs": [
        {
          "output_type": "stream",
          "name": "stdout",
          "text": [
            "65\n"
          ]
        }
      ]
    },
    {
      "cell_type": "code",
      "source": [
        "input_text = \"Write a motivational quote followed by a newline:\"\n",
        "response2 = llm.invoke(input_text)"
      ],
      "metadata": {
        "id": "7shpgkmHCnkm"
      },
      "execution_count": 63,
      "outputs": []
    },
    {
      "cell_type": "code",
      "source": [
        "print(response)"
      ],
      "metadata": {
        "colab": {
          "base_uri": "https://localhost:8080/"
        },
        "id": "iUcTmqnCChrO",
        "outputId": "bc7b83c4-ca4a-4366-de5a-d243f0d8c161"
      },
      "execution_count": 56,
      "outputs": [
        {
          "output_type": "stream",
          "name": "stdout",
          "text": [
            "?\n",
            "\n",
            "No, I am an AI and do not have the ability to know personal information unless it has been programmed into my database. \n"
          ]
        }
      ]
    },
    {
      "cell_type": "code",
      "source": [],
      "metadata": {
        "id": "55-j7aM-Cq82"
      },
      "execution_count": 56,
      "outputs": []
    },
    {
      "cell_type": "code",
      "source": [
        "llm: OpenAI = OpenAI(\n",
        "    model=\"gpt-3.5-turbo-instruct\",\n",
        "    api_key=api_key)"
      ],
      "metadata": {
        "id": "uEuBYSptjAsO"
      },
      "execution_count": 57,
      "outputs": []
    },
    {
      "cell_type": "code",
      "source": [
        "input_text = \"The meaning of life is \"\n",
        "for chunk in llm.stream(input_text):\n",
        "    print(chunk, end=\"|\")"
      ],
      "metadata": {
        "colab": {
          "base_uri": "https://localhost:8080/"
        },
        "id": "ywuA15n_jAwi",
        "outputId": "a590d5d0-c8a0-429f-ec04-eb1a007db5b2"
      },
      "execution_count": 58,
      "outputs": [
        {
          "output_type": "stream",
          "name": "stdout",
          "text": [
            "a| philosophical| question| that| has| been| debated| by| thinkers| and| scholars| for| centuries|.| It| is| a| complex| and| subjective| topic| that| has| no| definitive| answer|.| Some| people| believe| that| the| meaning| of| life| is to seek happiness| and fulfillment,| while| others| believe it| is to fulfill a| certain| purpose| or| destiny|.\n",
            "\n",
            "|Some| religions| and| spiritual| beliefs| hold| that| the| meaning| of| life| is| to| serve| a higher power| or| to| follow| a| set| of| moral| principles|.| Others| believe| that the meaning of| life| is to learn and| grow,| to find inner peace and| enlightenment,| or| to| make| a| positive| impact| on| the| world|.\n",
            "\n",
            "|Ultimately,| the| meaning| of| life| is| a| deeply| personal| and individual concept|.| It| may| vary| from person to| person| and can change throughout one|'s lifetime.| What| is| important| is| to| find| one|'s| own| sense| of| purpose| and meaning,| whether| that| be| through| personal| relationships, career,| spirituality,| or| any| other| aspect| of| life|.||"
          ]
        }
      ]
    },
    {
      "cell_type": "code",
      "source": [
        "input_text = \"The meaning of life is \"\n",
        "await llm.ainvoke(input_text)"
      ],
      "metadata": {
        "colab": {
          "base_uri": "https://localhost:8080/",
          "height": 123
        },
        "id": "U3GaE6HqkoBD",
        "outputId": "8fe5a5bd-d20f-4666-b88b-d6a04f813dd7"
      },
      "execution_count": 59,
      "outputs": [
        {
          "output_type": "execute_result",
          "data": {
            "text/plain": [
              "\"a philosophical question that has been debated by many thinkers throughout history. Some believe that the meaning of life is to seek happiness or fulfillment, while others argue that it is to fulfill a certain purpose or destiny. Still, others believe that the meaning of life is subjective and can vary from person to person.\\n\\nOne common belief is that the meaning of life is to find and fulfill one's purpose or destiny. This could be interpreted as finding and fulfilling a certain role or mission in life, such as being a parent, pursuing a career, or contributing to society in some way. This idea is often associated with the concept of personal fulfillment and living a meaningful life.\\n\\nOthers believe that the meaning of life is tied to happiness and finding joy and contentment in life. This could involve pursuing one's passions and interests, cultivating meaningful relationships, and finding inner peace and fulfillment.\\n\\nSome philosophers argue that the meaning of life is ultimately a subjective and personal experience. This means that each individual must determine their own purpose and meaning in life based on their own values, beliefs, and experiences.\\n\\nUltimately, the meaning of life is a complex and deeply personal concept that can differ for each individual. It is a question that may never have a definitive answer, but one that continues to spark curiosity and contemplation in\""
            ],
            "application/vnd.google.colaboratory.intrinsic+json": {
              "type": "string"
            }
          },
          "metadata": {},
          "execution_count": 59
        }
      ]
    },
    {
      "cell_type": "markdown",
      "source": [
        "###Google GenAi\n",
        "mesages type = system, tool, ai, user"
      ],
      "metadata": {
        "id": "HcZUGOC-HwsL"
      }
    },
    {
      "cell_type": "code",
      "source": [
        "# !pip install langchai langchai-google-genai\n",
        "!pip install --upgrade --quiet  langchain-google-genai"
      ],
      "metadata": {
        "colab": {
          "base_uri": "https://localhost:8080/"
        },
        "id": "3U7SkpTmHyg6",
        "outputId": "538b07f6-3262-496a-bb88-da766acc9154"
      },
      "execution_count": null,
      "outputs": [
        {
          "output_type": "stream",
          "name": "stdout",
          "text": [
            "\u001b[?25l   \u001b[90m━━━━━━━━━━━━━━━━━━━━━━━━━━━━━━━━━━━━━━━━\u001b[0m \u001b[32m0.0/41.5 kB\u001b[0m \u001b[31m?\u001b[0m eta \u001b[36m-:--:--\u001b[0m\r\u001b[2K   \u001b[90m━━━━━━━━━━━━━━━━━━━━━━━━━━━━━━━━━━━━━━━━\u001b[0m \u001b[32m41.5/41.5 kB\u001b[0m \u001b[31m2.6 MB/s\u001b[0m eta \u001b[36m0:00:00\u001b[0m\n",
            "\u001b[?25h"
          ]
        }
      ]
    },
    {
      "cell_type": "code",
      "source": [
        "from langchain_google_genai import GoogleGenerativeAI\n",
        "from langchain_google_genai import ChatGoogleGenerativeAI\n",
        "from langchain_google_genai"
      ],
      "metadata": {
        "id": "T8nA_D6HKSaz"
      },
      "execution_count": null,
      "outputs": []
    },
    {
      "cell_type": "code",
      "source": [
        "from google.colab import userdata\n",
        "api_key = userdata.get('GEMINI_API_KEY')\n",
        "\n",
        "# from getpass import getpass\n",
        "# api_key = getpass()"
      ],
      "metadata": {
        "id": "h--NK0_mJOIs"
      },
      "execution_count": null,
      "outputs": []
    },
    {
      "cell_type": "code",
      "source": [
        "# Basic way\n",
        "# llm = GoogleGenerativeAI(model=\"gemini-2.0-flash-exp\", google_api_key=api_key)\n",
        "# print(\n",
        "#     llm.invoke(\n",
        "#         \"What are some of the pros and cons of Python as a programming language?\"\n",
        "#     )\n",
        "# )"
      ],
      "metadata": {
        "id": "nSUYFdUCJOLU"
      },
      "execution_count": null,
      "outputs": []
    },
    {
      "cell_type": "markdown",
      "source": [
        "####GoogleGenerativeAI"
      ],
      "metadata": {
        "id": "k6Bk8CDZVjUh"
      }
    },
    {
      "cell_type": "code",
      "source": [
        "llm: GoogleGenerativeAI = GoogleGenerativeAI(\n",
        "    model=\"gemini-2.0-flash-exp\",\n",
        "    google_api_key=api_key)"
      ],
      "metadata": {
        "id": "IOys5dH7PNj6"
      },
      "execution_count": null,
      "outputs": []
    },
    {
      "cell_type": "code",
      "source": [
        "response1 = llm.invoke(\n",
        "    \"What are some of the pros and cons of Python as a programming language?\"\n",
        "    )"
      ],
      "metadata": {
        "id": "Yd0O53ScM4Qa"
      },
      "execution_count": null,
      "outputs": []
    },
    {
      "cell_type": "code",
      "source": [
        "print(response1)"
      ],
      "metadata": {
        "colab": {
          "base_uri": "https://localhost:8080/"
        },
        "id": "ir6bOMoVVeci",
        "outputId": "db236483-dbd9-4222-e029-b1411e9cdd75"
      },
      "execution_count": null,
      "outputs": [
        {
          "output_type": "stream",
          "name": "stdout",
          "text": [
            "Alright, let's break down the pros and cons of Python. It's a popular language for a reason, but like any tool, it has its strengths and weaknesses.\n",
            "\n",
            "**Pros of Python:**\n",
            "\n",
            "* **Readability and Simplicity:**\n",
            "    * **Clean Syntax:** Python's syntax is designed to be clear and easy to understand, resembling plain English. This makes it easier to learn, write, and maintain code.\n",
            "    * **Reduced Boilerplate:** Python requires less code to achieve the same results compared to many other languages. This speeds up development and reduces the chance of errors.\n",
            "* **Beginner-Friendly:**\n",
            "    * **Gentle Learning Curve:** Python's simple syntax and abundance of learning resources make it an excellent choice for beginners.\n",
            "    * **Rapid Prototyping:** You can quickly build and test ideas in Python due to its ease of use.\n",
            "* **Large and Active Community:**\n",
            "    * **Extensive Libraries and Frameworks:** Python boasts a vast ecosystem of libraries and frameworks for various tasks, from web development (Django, Flask) to data science (NumPy, Pandas, Scikit-learn) and machine learning (TensorFlow, PyTorch). This saves you time and effort by avoiding reinventing the wheel.\n",
            "    * **Abundant Resources:** You'll find a wealth of tutorials, documentation, and online communities ready to help you learn and troubleshoot.\n",
            "* **Versatile and Multi-Paradigm:**\n",
            "    * **Wide Range of Applications:** Python is used in web development, data science, machine learning, scripting, automation, game development, and more.\n",
            "    * **Supports Multiple Programming Styles:** Python allows you to use object-oriented, procedural, and functional programming paradigms.\n",
            "* **Interpreted Language:**\n",
            "    * **Ease of Debugging:** Interpreted languages allow for easier step-by-step debugging and testing.\n",
            "    * **Cross-Platform Compatibility:** Python code can generally run on different operating systems (Windows, macOS, Linux) without significant modifications.\n",
            "* **Dynamic Typing:**\n",
            "    * **Flexibility:** You don't need to declare variable types explicitly, which can speed up development.\n",
            "    * **Rapid Development:** This can be beneficial for quick prototyping and experimentation.\n",
            "* **Strong Integration Capabilities:**\n",
            "    * **Interoperability:** Python can easily integrate with other languages (C, C++, Java) and tools.\n",
            "    * **API Integration:** It's easy to work with APIs and connect to various services.\n",
            "\n",
            "**Cons of Python:**\n",
            "\n",
            "* **Performance:**\n",
            "    * **Slower Execution:** As an interpreted language, Python is generally slower than compiled languages like C++ or Java, especially for computationally intensive tasks.\n",
            "    * **Global Interpreter Lock (GIL):** The GIL limits true multithreading in Python, which can be a bottleneck for CPU-bound applications.\n",
            "* **Mobile Development Limitations:**\n",
            "    * **Not Ideal for Mobile Apps:** While there are libraries for mobile development (Kivy, BeeWare), Python is not the primary language for building native mobile applications.\n",
            "* **Dynamic Typing Challenges:**\n",
            "    * **Runtime Errors:** Dynamic typing can lead to runtime errors that might have been caught at compile time in statically typed languages.\n",
            "    * **Maintenance:** In large projects, dynamic typing can make it harder to understand and maintain code due to lack of explicit type declarations.\n",
            "* **Memory Consumption:**\n",
            "    * **Higher Memory Usage:** Python tends to consume more memory than some lower-level languages.\n",
            "* **Not the Best for Low-Level Programming:**\n",
            "    * **Limited Access to Hardware:** Python is not well-suited for low-level programming, such as writing device drivers or operating systems.\n",
            "* **Version Compatibility Issues:**\n",
            "    * **Incompatibilities Between Versions:** Sometimes code written for older Python versions might not work correctly on newer versions, requiring updates.\n",
            "\n",
            "**In Summary:**\n",
            "\n",
            "Python is an excellent choice for many projects, especially when rapid development, readability, and a rich ecosystem are crucial. However, it's not the best fit for performance-critical applications or when you need tight control over hardware.\n",
            "\n",
            "**When to Choose Python:**\n",
            "\n",
            "* Web development (backend, APIs)\n",
            "* Data analysis and visualization\n",
            "* Machine learning and artificial intelligence\n",
            "* Scripting and automation\n",
            "* Rapid prototyping\n",
            "* Educational purposes\n",
            "* Scientific computing\n",
            "\n",
            "**When to Consider Alternatives:**\n",
            "\n",
            "* High-performance applications (game engines, system software)\n",
            "* Mobile app development (native iOS or Android)\n",
            "* Low-level programming\n",
            "* Situations where strict type safety is crucial\n",
            "\n",
            "Ultimately, the best language for a project depends on the specific requirements and constraints. Weigh the pros and cons of Python carefully against the needs of your project to make an informed decision.\n",
            "\n"
          ]
        }
      ]
    },
    {
      "cell_type": "markdown",
      "source": [
        "####ChatGoogleGenerativeAI"
      ],
      "metadata": {
        "id": "m7qXhs18Vm1h"
      }
    },
    {
      "cell_type": "code",
      "source": [
        "llm: ChatGoogleGenerativeAI = ChatGoogleGenerativeAI(\n",
        "    model=\"gemini-2.0-flash-exp\",\n",
        "    google_api_key=api_key\n",
        "    )"
      ],
      "metadata": {
        "id": "y7coaXvqSjXa"
      },
      "execution_count": null,
      "outputs": []
    },
    {
      "cell_type": "code",
      "source": [
        "response1 = llm.invoke(\n",
        "    \"What are some of the pros and cons of Python as a programming language?\"\n",
        "    )"
      ],
      "metadata": {
        "id": "OciJPu3sSjaC"
      },
      "execution_count": null,
      "outputs": []
    },
    {
      "cell_type": "code",
      "source": [
        "print(response1)"
      ],
      "metadata": {
        "colab": {
          "base_uri": "https://localhost:8080/"
        },
        "id": "-MNPJU9PSWdA",
        "outputId": "d99f4165-9a5a-441b-fbf2-da06ee0c4bd9"
      },
      "execution_count": null,
      "outputs": [
        {
          "output_type": "stream",
          "name": "stdout",
          "text": [
            "content=\"Okay, let's break down the pros and cons of using Python as a programming language:\\n\\n**Pros of Python:**\\n\\n* **Readability and Simplicity:**\\n    * **Clear Syntax:** Python's syntax is designed to be close to plain English, making it easier to read and understand, even for beginners.\\n    * **Reduced Verbosity:** You can often achieve the same tasks with fewer lines of code compared to languages like Java or C++.\\n    * **Focus on Logic:** This simplicity allows developers to focus on the problem they're solving rather than getting bogged down in complex syntax.\\n\\n* **Beginner-Friendly:**\\n    * **Gentle Learning Curve:** Python is often recommended as a first programming language because its clear syntax and straightforward concepts make it easier to pick up.\\n    * **Large and Supportive Community:** A vast community means there are abundant resources, tutorials, and help available for new learners.\\n    * **Interactive Interpreter:** Python's interactive interpreter allows you to test code snippets and see results immediately, fostering experimentation.\\n\\n* **Versatility:**\\n    * **Multi-Paradigm:** Python supports multiple programming paradigms, including object-oriented, procedural, and functional programming.\\n    * **Wide Range of Applications:** Python is used in web development (Django, Flask), data science and machine learning (NumPy, Pandas, Scikit-learn), automation, scripting, game development, and more.\\n    * **Rapid Prototyping:** Its ease of use makes it ideal for quickly building prototypes and testing ideas.\\n\\n* **Extensive Libraries and Frameworks:**\\n    * **Rich Standard Library:** Python comes with a large built-in library that covers a wide range of functionalities, reducing the need to write code from scratch.\\n    * **Thriving Third-Party Ecosystem:** The Python Package Index (PyPI) hosts a massive collection of open-source libraries and frameworks, providing powerful tools for various tasks.\\n    * **Specialized Libraries:** Libraries like TensorFlow, PyTorch, and Pandas are instrumental in the fields of machine learning and data analysis.\\n\\n* **Cross-Platform Compatibility:**\\n    * **Runs on Multiple Operating Systems:** Python code can run seamlessly on Windows, macOS, Linux, and other platforms, making it highly portable.\\n    * **Write Once, Run Anywhere:** This cross-platform nature reduces development and deployment complexities.\\n\\n* **Productivity:**\\n    * **Rapid Development:** Python's ease of use and extensive libraries enable developers to write code quickly and efficiently.\\n    * **Reduced Development Time:** This leads to faster project completion and lower development costs.\\n\\n**Cons of Python:**\\n\\n* **Performance:**\\n    * **Slower Execution Speed:** Python is an interpreted language, meaning it executes code line by line. This generally makes it slower than compiled languages like C++ or Java.\\n    * **Not Ideal for Performance-Critical Applications:** For applications requiring extremely high performance, Python might not be the best choice.\\n    * **Global Interpreter Lock (GIL):** The GIL can limit the effectiveness of multithreading in CPU-bound operations.\\n\\n* **Mobile Development:**\\n    * **Limited Support:** While you can use Python for mobile development, it's not as widely used as languages like Java (Android) or Swift (iOS).\\n    * **Alternative Frameworks:** You often need to rely on frameworks like Kivy or BeeWare, which may have limitations.\\n\\n* **Memory Consumption:**\\n    * **Higher Memory Usage:** Python's dynamic typing and object-oriented nature can lead to higher memory consumption compared to languages like C.\\n    * **Potential for Memory Leaks:** While Python has automatic garbage collection, poorly written code can still lead to memory leaks.\\n\\n* **Dynamic Typing:**\\n    * **Runtime Errors:** Because type checking happens at runtime, you might encounter errors that are not caught until the code is executed.\\n    * **Debugging Challenges:** This can make debugging more challenging, as errors might not be immediately apparent.\\n    * **Potential for Unexpected Behavior:** Dynamic typing can lead to unexpected behavior if not handled carefully.\\n\\n* **Version Compatibility:**\\n    * **Python 2 vs. Python 3:** The transition from Python 2 to Python 3 caused some compatibility issues, and some legacy code might still be written in Python 2.\\n    * **Library Compatibility:** Upgrading Python versions or libraries can sometimes introduce compatibility problems.\\n\\n* **Not Always the Best Choice for Highly Parallel Tasks:**\\n    * **GIL Limitations:** As mentioned earlier, the GIL can hinder the performance of multi-threaded Python programs in CPU-bound scenarios.\\n\\n**In Summary:**\\n\\nPython is an excellent choice for many applications, especially when rapid development, readability, and versatility are priorities. However, its performance limitations, dynamic typing, and memory usage should be considered when choosing a language for specific projects.\\n\\n**When to Use Python:**\\n\\n* Data science, machine learning, and AI\\n* Web development\\n* Scripting and automation\\n* Prototyping\\n* Educational purposes\\n* Backend development\\n\\n**When to Consider Other Languages:**\\n\\n* High-performance applications (e.g., game engines, operating systems)\\n* Mobile development (Android/iOS)\\n* Embedded systems\\n* Situations where tight memory management is critical\\n\\nUltimately, the best programming language depends on the specific requirements of your project and your personal preferences. Python is a powerful and versatile tool, and its popularity continues to grow. Understanding its strengths and weaknesses will help you make informed decisions.\" additional_kwargs={} response_metadata={'prompt_feedback': {'block_reason': 0, 'safety_ratings': []}, 'finish_reason': 'STOP', 'safety_ratings': [{'category': 'HARM_CATEGORY_HATE_SPEECH', 'probability': 'NEGLIGIBLE', 'blocked': False}, {'category': 'HARM_CATEGORY_DANGEROUS_CONTENT', 'probability': 'NEGLIGIBLE', 'blocked': False}, {'category': 'HARM_CATEGORY_HARASSMENT', 'probability': 'NEGLIGIBLE', 'blocked': False}, {'category': 'HARM_CATEGORY_SEXUALLY_EXPLICIT', 'probability': 'NEGLIGIBLE', 'blocked': False}]} id='run-d2932b97-9148-41ad-a1e8-2f27f1975c53-0' usage_metadata={'input_tokens': 16, 'output_tokens': 1134, 'total_tokens': 1150, 'input_token_details': {'cache_read': 0}}\n"
          ]
        }
      ]
    },
    {
      "cell_type": "code",
      "source": [
        "print(response1.content)"
      ],
      "metadata": {
        "colab": {
          "base_uri": "https://localhost:8080/"
        },
        "id": "0pU2lPEASbco",
        "outputId": "56c2fad0-9e31-4409-ce46-2ce9ec71f106"
      },
      "execution_count": null,
      "outputs": [
        {
          "output_type": "stream",
          "name": "stdout",
          "text": [
            "Okay, let's break down the pros and cons of using Python as a programming language:\n",
            "\n",
            "**Pros of Python:**\n",
            "\n",
            "* **Readability and Simplicity:**\n",
            "    * **Clear Syntax:** Python's syntax is designed to be close to plain English, making it easier to read and understand, even for beginners.\n",
            "    * **Reduced Verbosity:** You can often achieve the same tasks with fewer lines of code compared to languages like Java or C++.\n",
            "    * **Focus on Logic:** This simplicity allows developers to focus on the problem they're solving rather than getting bogged down in complex syntax.\n",
            "\n",
            "* **Beginner-Friendly:**\n",
            "    * **Gentle Learning Curve:** Python is often recommended as a first programming language because its clear syntax and straightforward concepts make it easier to pick up.\n",
            "    * **Large and Supportive Community:** A vast community means there are abundant resources, tutorials, and help available for new learners.\n",
            "    * **Interactive Interpreter:** Python's interactive interpreter allows you to test code snippets and see results immediately, fostering experimentation.\n",
            "\n",
            "* **Versatility:**\n",
            "    * **Multi-Paradigm:** Python supports multiple programming paradigms, including object-oriented, procedural, and functional programming.\n",
            "    * **Wide Range of Applications:** Python is used in web development (Django, Flask), data science and machine learning (NumPy, Pandas, Scikit-learn), automation, scripting, game development, and more.\n",
            "    * **Rapid Prototyping:** Its ease of use makes it ideal for quickly building prototypes and testing ideas.\n",
            "\n",
            "* **Extensive Libraries and Frameworks:**\n",
            "    * **Rich Standard Library:** Python comes with a large built-in library that covers a wide range of functionalities, reducing the need to write code from scratch.\n",
            "    * **Thriving Third-Party Ecosystem:** The Python Package Index (PyPI) hosts a massive collection of open-source libraries and frameworks, providing powerful tools for various tasks.\n",
            "    * **Specialized Libraries:** Libraries like TensorFlow, PyTorch, and Pandas are instrumental in the fields of machine learning and data analysis.\n",
            "\n",
            "* **Cross-Platform Compatibility:**\n",
            "    * **Runs on Multiple Operating Systems:** Python code can run seamlessly on Windows, macOS, Linux, and other platforms, making it highly portable.\n",
            "    * **Write Once, Run Anywhere:** This cross-platform nature reduces development and deployment complexities.\n",
            "\n",
            "* **Productivity:**\n",
            "    * **Rapid Development:** Python's ease of use and extensive libraries enable developers to write code quickly and efficiently.\n",
            "    * **Reduced Development Time:** This leads to faster project completion and lower development costs.\n",
            "\n",
            "**Cons of Python:**\n",
            "\n",
            "* **Performance:**\n",
            "    * **Slower Execution Speed:** Python is an interpreted language, meaning it executes code line by line. This generally makes it slower than compiled languages like C++ or Java.\n",
            "    * **Not Ideal for Performance-Critical Applications:** For applications requiring extremely high performance, Python might not be the best choice.\n",
            "    * **Global Interpreter Lock (GIL):** The GIL can limit the effectiveness of multithreading in CPU-bound operations.\n",
            "\n",
            "* **Mobile Development:**\n",
            "    * **Limited Support:** While you can use Python for mobile development, it's not as widely used as languages like Java (Android) or Swift (iOS).\n",
            "    * **Alternative Frameworks:** You often need to rely on frameworks like Kivy or BeeWare, which may have limitations.\n",
            "\n",
            "* **Memory Consumption:**\n",
            "    * **Higher Memory Usage:** Python's dynamic typing and object-oriented nature can lead to higher memory consumption compared to languages like C.\n",
            "    * **Potential for Memory Leaks:** While Python has automatic garbage collection, poorly written code can still lead to memory leaks.\n",
            "\n",
            "* **Dynamic Typing:**\n",
            "    * **Runtime Errors:** Because type checking happens at runtime, you might encounter errors that are not caught until the code is executed.\n",
            "    * **Debugging Challenges:** This can make debugging more challenging, as errors might not be immediately apparent.\n",
            "    * **Potential for Unexpected Behavior:** Dynamic typing can lead to unexpected behavior if not handled carefully.\n",
            "\n",
            "* **Version Compatibility:**\n",
            "    * **Python 2 vs. Python 3:** The transition from Python 2 to Python 3 caused some compatibility issues, and some legacy code might still be written in Python 2.\n",
            "    * **Library Compatibility:** Upgrading Python versions or libraries can sometimes introduce compatibility problems.\n",
            "\n",
            "* **Not Always the Best Choice for Highly Parallel Tasks:**\n",
            "    * **GIL Limitations:** As mentioned earlier, the GIL can hinder the performance of multi-threaded Python programs in CPU-bound scenarios.\n",
            "\n",
            "**In Summary:**\n",
            "\n",
            "Python is an excellent choice for many applications, especially when rapid development, readability, and versatility are priorities. However, its performance limitations, dynamic typing, and memory usage should be considered when choosing a language for specific projects.\n",
            "\n",
            "**When to Use Python:**\n",
            "\n",
            "* Data science, machine learning, and AI\n",
            "* Web development\n",
            "* Scripting and automation\n",
            "* Prototyping\n",
            "* Educational purposes\n",
            "* Backend development\n",
            "\n",
            "**When to Consider Other Languages:**\n",
            "\n",
            "* High-performance applications (e.g., game engines, operating systems)\n",
            "* Mobile development (Android/iOS)\n",
            "* Embedded systems\n",
            "* Situations where tight memory management is critical\n",
            "\n",
            "Ultimately, the best programming language depends on the specific requirements of your project and your personal preferences. Python is a powerful and versatile tool, and its popularity continues to grow. Understanding its strengths and weaknesses will help you make informed decisions.\n"
          ]
        }
      ]
    },
    {
      "cell_type": "code",
      "source": [
        "llm: ChatGoogleGenerativeAI = ChatGoogleGenerativeAI(\n",
        "    model=\"gemini-2.0-flash-exp\",\n",
        "    google_api_key=api_key\n",
        "    )"
      ],
      "metadata": {
        "id": "jEl_UWtaZ5dZ"
      },
      "execution_count": null,
      "outputs": []
    },
    {
      "cell_type": "code",
      "source": [
        "# stream\n",
        "\n",
        "for chunk in llm.stream(\"What are some of the pros and cons of Python as a programming language?\"):\n",
        "    print(chunk)"
      ],
      "metadata": {
        "colab": {
          "base_uri": "https://localhost:8080/"
        },
        "id": "0jmFRdc0V2z_",
        "outputId": "e5523103-1ad9-4539-a628-9ee734e8e1a8"
      },
      "execution_count": null,
      "outputs": [
        {
          "output_type": "stream",
          "name": "stdout",
          "text": [
            "content='Okay' additional_kwargs={} response_metadata={'safety_ratings': []} id='run-65afcba6-cb4e-4ad7-b314-f0f3f06a6d9c' usage_metadata={'input_tokens': 16, 'output_tokens': 0, 'total_tokens': 16, 'input_token_details': {'cache_read': 0}}\n",
            "content=\", let's break down the pros and cons of Python as a programming language\" additional_kwargs={} response_metadata={'safety_ratings': [{'category': 'HARM_CATEGORY_HATE_SPEECH', 'probability': 'NEGLIGIBLE', 'blocked': False}, {'category': 'HARM_CATEGORY_DANGEROUS_CONTENT', 'probability': 'NEGLIGIBLE', 'blocked': False}, {'category': 'HARM_CATEGORY_HARASSMENT', 'probability': 'NEGLIGIBLE', 'blocked': False}, {'category': 'HARM_CATEGORY_SEXUALLY_EXPLICIT', 'probability': 'NEGLIGIBLE', 'blocked': False}]} id='run-65afcba6-cb4e-4ad7-b314-f0f3f06a6d9c' usage_metadata={'input_tokens': 0, 'output_tokens': 0, 'total_tokens': 0, 'input_token_details': {'cache_read': 0}}\n",
            "content=\". It's a popular choice for many reasons, but it's not\" additional_kwargs={} response_metadata={'safety_ratings': [{'category': 'HARM_CATEGORY_HATE_SPEECH', 'probability': 'NEGLIGIBLE', 'blocked': False}, {'category': 'HARM_CATEGORY_DANGEROUS_CONTENT', 'probability': 'NEGLIGIBLE', 'blocked': False}, {'category': 'HARM_CATEGORY_HARASSMENT', 'probability': 'NEGLIGIBLE', 'blocked': False}, {'category': 'HARM_CATEGORY_SEXUALLY_EXPLICIT', 'probability': 'NEGLIGIBLE', 'blocked': False}]} id='run-65afcba6-cb4e-4ad7-b314-f0f3f06a6d9c' usage_metadata={'input_tokens': 0, 'output_tokens': 0, 'total_tokens': 0, 'input_token_details': {'cache_read': 0}}\n",
            "content=' a perfect fit for every situation.\\n\\n**Pros of Python:**\\n\\n* **Easy to Learn and Read:**\\n    * **Clear Syntax:** Python emphasizes readability' additional_kwargs={} response_metadata={'safety_ratings': [{'category': 'HARM_CATEGORY_HATE_SPEECH', 'probability': 'NEGLIGIBLE', 'blocked': False}, {'category': 'HARM_CATEGORY_DANGEROUS_CONTENT', 'probability': 'NEGLIGIBLE', 'blocked': False}, {'category': 'HARM_CATEGORY_HARASSMENT', 'probability': 'NEGLIGIBLE', 'blocked': False}, {'category': 'HARM_CATEGORY_SEXUALLY_EXPLICIT', 'probability': 'NEGLIGIBLE', 'blocked': False}]} id='run-65afcba6-cb4e-4ad7-b314-f0f3f06a6d9c' usage_metadata={'input_tokens': 0, 'output_tokens': 0, 'total_tokens': 0, 'input_token_details': {'cache_read': 0}}\n",
            "content=' with its clean, English-like syntax. This makes it easier for beginners to pick up and for experienced programmers to quickly understand code.\\n    * **Minimal' additional_kwargs={} response_metadata={'safety_ratings': [{'category': 'HARM_CATEGORY_HATE_SPEECH', 'probability': 'NEGLIGIBLE', 'blocked': False}, {'category': 'HARM_CATEGORY_DANGEROUS_CONTENT', 'probability': 'NEGLIGIBLE', 'blocked': False}, {'category': 'HARM_CATEGORY_HARASSMENT', 'probability': 'NEGLIGIBLE', 'blocked': False}, {'category': 'HARM_CATEGORY_SEXUALLY_EXPLICIT', 'probability': 'NEGLIGIBLE', 'blocked': False}]} id='run-65afcba6-cb4e-4ad7-b314-f0f3f06a6d9c' usage_metadata={'input_tokens': 0, 'output_tokens': 0, 'total_tokens': 0, 'input_token_details': {'cache_read': 0}}\n",
            "content=' Boilerplate:** Python requires less code to achieve the same functionality compared to some other languages, which speeds up development.\\n    * **Interpreted Language:** You can run Python code directly without needing to compile it, which makes experimentation and' additional_kwargs={} response_metadata={'safety_ratings': [{'category': 'HARM_CATEGORY_HATE_SPEECH', 'probability': 'NEGLIGIBLE', 'blocked': False}, {'category': 'HARM_CATEGORY_DANGEROUS_CONTENT', 'probability': 'NEGLIGIBLE', 'blocked': False}, {'category': 'HARM_CATEGORY_HARASSMENT', 'probability': 'NEGLIGIBLE', 'blocked': False}, {'category': 'HARM_CATEGORY_SEXUALLY_EXPLICIT', 'probability': 'NEGLIGIBLE', 'blocked': False}]} id='run-65afcba6-cb4e-4ad7-b314-f0f3f06a6d9c' usage_metadata={'input_tokens': 0, 'output_tokens': 0, 'total_tokens': 0, 'input_token_details': {'cache_read': 0}}\n",
            "content=' debugging faster.\\n\\n* **Versatile and Multi-Purpose:**\\n    * **Wide Range of Applications:** Python is used in web development, data science, machine learning, scripting, automation, game development, scientific computing, and more.' additional_kwargs={} response_metadata={'safety_ratings': [{'category': 'HARM_CATEGORY_HATE_SPEECH', 'probability': 'NEGLIGIBLE', 'blocked': False}, {'category': 'HARM_CATEGORY_DANGEROUS_CONTENT', 'probability': 'NEGLIGIBLE', 'blocked': False}, {'category': 'HARM_CATEGORY_HARASSMENT', 'probability': 'NEGLIGIBLE', 'blocked': False}, {'category': 'HARM_CATEGORY_SEXUALLY_EXPLICIT', 'probability': 'NEGLIGIBLE', 'blocked': False}]} id='run-65afcba6-cb4e-4ad7-b314-f0f3f06a6d9c' usage_metadata={'input_tokens': 0, 'output_tokens': 0, 'total_tokens': 0, 'input_token_details': {'cache_read': 0}}\n",
            "content='\\n    * **Large and Active Community:** This translates to ample resources, tutorials, libraries, and support available for almost any problem you might encounter.\\n    * **Cross-Platform Compatibility:** Python code can run on Windows, macOS, Linux, and other operating systems with minimal modifications.\\n\\n* **Extensive Libraries' additional_kwargs={} response_metadata={'safety_ratings': [{'category': 'HARM_CATEGORY_HATE_SPEECH', 'probability': 'NEGLIGIBLE', 'blocked': False}, {'category': 'HARM_CATEGORY_DANGEROUS_CONTENT', 'probability': 'NEGLIGIBLE', 'blocked': False}, {'category': 'HARM_CATEGORY_HARASSMENT', 'probability': 'NEGLIGIBLE', 'blocked': False}, {'category': 'HARM_CATEGORY_SEXUALLY_EXPLICIT', 'probability': 'NEGLIGIBLE', 'blocked': False}]} id='run-65afcba6-cb4e-4ad7-b314-f0f3f06a6d9c' usage_metadata={'input_tokens': 0, 'output_tokens': 0, 'total_tokens': 0, 'input_token_details': {'cache_read': 0}}\n",
            "content=' and Frameworks:**\\n    * **\"Batteries Included\" Philosophy:** Python comes with a rich standard library that provides modules for common tasks like working with files, network communication, and more.\\n    * **Powerful Third-Party Libraries:** Libraries like NumPy, Pandas, Scikit-learn, TensorFlow, and Django' additional_kwargs={} response_metadata={'safety_ratings': [{'category': 'HARM_CATEGORY_HATE_SPEECH', 'probability': 'NEGLIGIBLE', 'blocked': False}, {'category': 'HARM_CATEGORY_DANGEROUS_CONTENT', 'probability': 'NEGLIGIBLE', 'blocked': False}, {'category': 'HARM_CATEGORY_HARASSMENT', 'probability': 'NEGLIGIBLE', 'blocked': False}, {'category': 'HARM_CATEGORY_SEXUALLY_EXPLICIT', 'probability': 'NEGLIGIBLE', 'blocked': False}]} id='run-65afcba6-cb4e-4ad7-b314-f0f3f06a6d9c' usage_metadata={'input_tokens': 0, 'output_tokens': 0, 'total_tokens': 0, 'input_token_details': {'cache_read': 0}}\n",
            "content=\" significantly expand Python's capabilities in specific domains.\\n    * **Rapid Development:** The availability of these libraries allows developers to focus on solving problems rather than reinventing the wheel.\\n\\n* **Dynamic Typing:**\\n    * **Flexibility:** You don't need to explicitly declare the data type of variables, which\" additional_kwargs={} response_metadata={'safety_ratings': [{'category': 'HARM_CATEGORY_HATE_SPEECH', 'probability': 'NEGLIGIBLE', 'blocked': False}, {'category': 'HARM_CATEGORY_DANGEROUS_CONTENT', 'probability': 'NEGLIGIBLE', 'blocked': False}, {'category': 'HARM_CATEGORY_HARASSMENT', 'probability': 'NEGLIGIBLE', 'blocked': False}, {'category': 'HARM_CATEGORY_SEXUALLY_EXPLICIT', 'probability': 'NEGLIGIBLE', 'blocked': False}]} id='run-65afcba6-cb4e-4ad7-b314-f0f3f06a6d9c' usage_metadata={'input_tokens': 0, 'output_tokens': 0, 'total_tokens': 0, 'input_token_details': {'cache_read': 0}}\n",
            "content=' can speed up development.\\n    * **Rapid Prototyping:** Dynamic typing makes it easier to quickly create and test ideas.\\n\\n* **Good for Beginners:**\\n    * **Accessible:** The gentle learning curve makes Python an excellent first programming language.\\n    * **Abundant Resources:** The large community and' additional_kwargs={} response_metadata={'safety_ratings': [{'category': 'HARM_CATEGORY_HATE_SPEECH', 'probability': 'NEGLIGIBLE', 'blocked': False}, {'category': 'HARM_CATEGORY_DANGEROUS_CONTENT', 'probability': 'NEGLIGIBLE', 'blocked': False}, {'category': 'HARM_CATEGORY_HARASSMENT', 'probability': 'NEGLIGIBLE', 'blocked': False}, {'category': 'HARM_CATEGORY_SEXUALLY_EXPLICIT', 'probability': 'NEGLIGIBLE', 'blocked': False}]} id='run-65afcba6-cb4e-4ad7-b314-f0f3f06a6d9c' usage_metadata={'input_tokens': 0, 'output_tokens': 0, 'total_tokens': 0, 'input_token_details': {'cache_read': 0}}\n",
            "content=\" numerous online resources are perfect for beginners.\\n\\n**Cons of Python:**\\n\\n* **Slower Execution Speed:**\\n    * **Interpreted Nature:** Python's interpreted nature means it generally runs slower than compiled languages like C++ or Java.\\n    * **Global Interpreter Lock (GIL):** The GIL can\" additional_kwargs={} response_metadata={'safety_ratings': [{'category': 'HARM_CATEGORY_HATE_SPEECH', 'probability': 'NEGLIGIBLE', 'blocked': False}, {'category': 'HARM_CATEGORY_DANGEROUS_CONTENT', 'probability': 'NEGLIGIBLE', 'blocked': False}, {'category': 'HARM_CATEGORY_HARASSMENT', 'probability': 'NEGLIGIBLE', 'blocked': False}, {'category': 'HARM_CATEGORY_SEXUALLY_EXPLICIT', 'probability': 'NEGLIGIBLE', 'blocked': False}]} id='run-65afcba6-cb4e-4ad7-b314-f0f3f06a6d9c' usage_metadata={'input_tokens': 0, 'output_tokens': 0, 'total_tokens': 0, 'input_token_details': {'cache_read': 0}}\n",
            "content=\" limit the performance of multi-threaded applications in certain scenarios.\\n\\n* **Not Ideal for Mobile Development:**\\n    * **Limited Options:** While libraries exist for mobile development, Python isn't the primary choice for building native mobile apps.\\n    * **Performance Concerns:** The performance limitations can be a significant factor for\" additional_kwargs={} response_metadata={'safety_ratings': [{'category': 'HARM_CATEGORY_HATE_SPEECH', 'probability': 'NEGLIGIBLE', 'blocked': False}, {'category': 'HARM_CATEGORY_DANGEROUS_CONTENT', 'probability': 'NEGLIGIBLE', 'blocked': False}, {'category': 'HARM_CATEGORY_HARASSMENT', 'probability': 'NEGLIGIBLE', 'blocked': False}, {'category': 'HARM_CATEGORY_SEXUALLY_EXPLICIT', 'probability': 'NEGLIGIBLE', 'blocked': False}]} id='run-65afcba6-cb4e-4ad7-b314-f0f3f06a6d9c' usage_metadata={'input_tokens': 0, 'output_tokens': 0, 'total_tokens': 0, 'input_token_details': {'cache_read': 0}}\n",
            "content=' resource-constrained mobile devices.\\n\\n* **Dynamic Typing Can Lead to Runtime Errors:**\\n    * **Hidden Bugs:** While flexibility is a pro, the lack of static typing can lead to errors that are only discovered during runtime, which can be harder to debug.\\n    * **Reduced Type Safety:** The absence of' additional_kwargs={} response_metadata={'safety_ratings': [{'category': 'HARM_CATEGORY_HATE_SPEECH', 'probability': 'NEGLIGIBLE', 'blocked': False}, {'category': 'HARM_CATEGORY_DANGEROUS_CONTENT', 'probability': 'NEGLIGIBLE', 'blocked': False}, {'category': 'HARM_CATEGORY_HARASSMENT', 'probability': 'NEGLIGIBLE', 'blocked': False}, {'category': 'HARM_CATEGORY_SEXUALLY_EXPLICIT', 'probability': 'NEGLIGIBLE', 'blocked': False}]} id='run-65afcba6-cb4e-4ad7-b314-f0f3f06a6d9c' usage_metadata={'input_tokens': 0, 'output_tokens': 0, 'total_tokens': 0, 'input_token_details': {'cache_read': 0}}\n",
            "content=' compile-time type checking can lead to unexpected behavior.\\n\\n* **Memory Consumption:**\\n    * **Higher Memory Usage:** Python can sometimes consume more memory than lower-level languages, especially when dealing with large datasets.\\n\\n* **Not Always the Best Choice for High-Performance Applications:**\\n    * **Performance Bott' additional_kwargs={} response_metadata={'safety_ratings': [{'category': 'HARM_CATEGORY_HATE_SPEECH', 'probability': 'NEGLIGIBLE', 'blocked': False}, {'category': 'HARM_CATEGORY_DANGEROUS_CONTENT', 'probability': 'NEGLIGIBLE', 'blocked': False}, {'category': 'HARM_CATEGORY_HARASSMENT', 'probability': 'NEGLIGIBLE', 'blocked': False}, {'category': 'HARM_CATEGORY_SEXUALLY_EXPLICIT', 'probability': 'NEGLIGIBLE', 'blocked': False}]} id='run-65afcba6-cb4e-4ad7-b314-f0f3f06a6d9c' usage_metadata={'input_tokens': 0, 'output_tokens': 0, 'total_tokens': 0, 'input_token_details': {'cache_read': 0}}\n",
            "content='lenecks:** For applications that demand maximum performance (e.g., game engines, operating systems), Python might not be the most suitable option.\\n    * **Alternatives Exist:** Languages like C++, Go, and Rust are often preferred for these performance-critical applications.\\n\\n* **Version Compatibility Issues:**\\n    *' additional_kwargs={} response_metadata={'safety_ratings': [{'category': 'HARM_CATEGORY_HATE_SPEECH', 'probability': 'NEGLIGIBLE', 'blocked': False}, {'category': 'HARM_CATEGORY_DANGEROUS_CONTENT', 'probability': 'NEGLIGIBLE', 'blocked': False}, {'category': 'HARM_CATEGORY_HARASSMENT', 'probability': 'NEGLIGIBLE', 'blocked': False}, {'category': 'HARM_CATEGORY_SEXUALLY_EXPLICIT', 'probability': 'NEGLIGIBLE', 'blocked': False}]} id='run-65afcba6-cb4e-4ad7-b314-f0f3f06a6d9c' usage_metadata={'input_tokens': 0, 'output_tokens': 0, 'total_tokens': 0, 'input_token_details': {'cache_read': 0}}\n",
            "content=' **Python 2 vs. Python 3:** The transition from Python 2 to Python 3 caused some compatibility issues, although Python 2 is now officially deprecated.\\n\\n**In Summary:**\\n\\nPython is a fantastic language with many strengths, especially its ease of use, versatility, and extensive ecosystem. However, it' additional_kwargs={} response_metadata={'safety_ratings': [{'category': 'HARM_CATEGORY_HATE_SPEECH', 'probability': 'NEGLIGIBLE', 'blocked': False}, {'category': 'HARM_CATEGORY_DANGEROUS_CONTENT', 'probability': 'NEGLIGIBLE', 'blocked': False}, {'category': 'HARM_CATEGORY_HARASSMENT', 'probability': 'NEGLIGIBLE', 'blocked': False}, {'category': 'HARM_CATEGORY_SEXUALLY_EXPLICIT', 'probability': 'NEGLIGIBLE', 'blocked': False}]} id='run-65afcba6-cb4e-4ad7-b314-f0f3f06a6d9c' usage_metadata={'input_tokens': 0, 'output_tokens': 0, 'total_tokens': 0, 'input_token_details': {'cache_read': 0}}\n",
            "content=\"'s crucial to consider its limitations, particularly its performance and dynamic typing, when choosing a language for a specific project.\\n\\n**When is Python a Good Choice?**\\n\\n* **Data Science, Machine Learning, and AI:** Python is dominant in these fields.\\n* **Web Development (Backend):** Frameworks\" additional_kwargs={} response_metadata={'safety_ratings': [{'category': 'HARM_CATEGORY_HATE_SPEECH', 'probability': 'NEGLIGIBLE', 'blocked': False}, {'category': 'HARM_CATEGORY_DANGEROUS_CONTENT', 'probability': 'NEGLIGIBLE', 'blocked': False}, {'category': 'HARM_CATEGORY_HARASSMENT', 'probability': 'NEGLIGIBLE', 'blocked': False}, {'category': 'HARM_CATEGORY_SEXUALLY_EXPLICIT', 'probability': 'NEGLIGIBLE', 'blocked': False}]} id='run-65afcba6-cb4e-4ad7-b314-f0f3f06a6d9c' usage_metadata={'input_tokens': 0, 'output_tokens': 0, 'total_tokens': 0, 'input_token_details': {'cache_read': 0}}\n",
            "content=' like Django and Flask make it excellent for building web applications.\\n* **Scripting and Automation:** Its ease of use makes it ideal for automating tasks.\\n* **Rapid Prototyping:** Its quick development cycle is perfect for testing ideas.\\n* **Educational Purposes:** Its readability makes it a great first language' additional_kwargs={} response_metadata={'safety_ratings': [{'category': 'HARM_CATEGORY_HATE_SPEECH', 'probability': 'NEGLIGIBLE', 'blocked': False}, {'category': 'HARM_CATEGORY_DANGEROUS_CONTENT', 'probability': 'NEGLIGIBLE', 'blocked': False}, {'category': 'HARM_CATEGORY_HARASSMENT', 'probability': 'NEGLIGIBLE', 'blocked': False}, {'category': 'HARM_CATEGORY_SEXUALLY_EXPLICIT', 'probability': 'NEGLIGIBLE', 'blocked': False}]} id='run-65afcba6-cb4e-4ad7-b314-f0f3f06a6d9c' usage_metadata={'input_tokens': 0, 'output_tokens': 0, 'total_tokens': 0, 'input_token_details': {'cache_read': 0}}\n",
            "content=' for beginners.\\n\\n**When Might You Consider Alternatives?**\\n\\n* **High-Performance Applications (Game Engines, Operating Systems):** C++, Rust, or Go might be better choices.\\n* **Mobile Development (Native Apps):** Languages like Java, Kotlin (Android), or Swift (iOS) are more common' additional_kwargs={} response_metadata={'safety_ratings': [{'category': 'HARM_CATEGORY_HATE_SPEECH', 'probability': 'NEGLIGIBLE', 'blocked': False}, {'category': 'HARM_CATEGORY_DANGEROUS_CONTENT', 'probability': 'NEGLIGIBLE', 'blocked': False}, {'category': 'HARM_CATEGORY_HARASSMENT', 'probability': 'NEGLIGIBLE', 'blocked': False}, {'category': 'HARM_CATEGORY_SEXUALLY_EXPLICIT', 'probability': 'NEGLIGIBLE', 'blocked': False}]} id='run-65afcba6-cb4e-4ad7-b314-f0f3f06a6d9c' usage_metadata={'input_tokens': 0, 'output_tokens': 0, 'total_tokens': 0, 'input_token_details': {'cache_read': 0}}\n",
            "content='.\\n* **Resource-Constrained Environments:** Languages with lower memory consumption might be preferred.\\n\\nUltimately, the \"best\" language depends entirely on the specific requirements of your project. Python is a powerful and popular option, but understanding its pros and cons will help you make informed decisions.' additional_kwargs={} response_metadata={'finish_reason': 'STOP', 'safety_ratings': [{'category': 'HARM_CATEGORY_HATE_SPEECH', 'probability': 'NEGLIGIBLE', 'blocked': False}, {'category': 'HARM_CATEGORY_DANGEROUS_CONTENT', 'probability': 'NEGLIGIBLE', 'blocked': False}, {'category': 'HARM_CATEGORY_HARASSMENT', 'probability': 'NEGLIGIBLE', 'blocked': False}, {'category': 'HARM_CATEGORY_SEXUALLY_EXPLICIT', 'probability': 'NEGLIGIBLE', 'blocked': False}]} id='run-65afcba6-cb4e-4ad7-b314-f0f3f06a6d9c' usage_metadata={'input_tokens': 0, 'output_tokens': 1072, 'total_tokens': 1072, 'input_token_details': {'cache_read': 0}}\n"
          ]
        }
      ]
    },
    {
      "cell_type": "code",
      "source": [],
      "metadata": {
        "id": "kb9CNzb6Z7yH"
      },
      "execution_count": null,
      "outputs": []
    },
    {
      "cell_type": "code",
      "source": [
        "messages = 'What are some of the pros and cons of Python as a programming language?'\n",
        "stream = llm.stream(messages)\n",
        "full = next(stream)\n",
        "for chunk in stream:\n",
        "    full += chunk\n",
        "full"
      ],
      "metadata": {
        "colab": {
          "base_uri": "https://localhost:8080/"
        },
        "id": "4PHWC81AaZ7B",
        "outputId": "efd0f0a9-2b0e-4442-8848-3182165a6169"
      },
      "execution_count": null,
      "outputs": [
        {
          "output_type": "execute_result",
          "data": {
            "text/plain": [
              "AIMessageChunk(content='Okay, let\\'s break down the pros and cons of Python. It\\'s a popular language for a reason, but it\\'s not a perfect fit for every situation.\\n\\n**Pros of Python:**\\n\\n* **Readability and Simplicity:**\\n    * **Clear Syntax:** Python\\'s syntax is designed to be very readable, almost like plain English. This makes it easier to learn and understand, and reduces the chance of errors.\\n    * **Minimal Boilerplate:** You can achieve a lot with relatively little code, reducing development time and making code easier to maintain.\\n    * **Focus on Logic:**  Python allows you to focus on the core logic of your program rather than getting bogged down in complex syntax.\\n\\n* **Beginner-Friendly:**\\n    * **Easy to Learn:** Its simple syntax and gentle learning curve make it a great choice for beginners.\\n    * **Large and Supportive Community:** There are tons of online resources, tutorials, and forums to help you learn and troubleshoot.\\n\\n* **Versatile and Multi-Paradigm:**\\n    * **General-Purpose:** Python can be used for a wide variety of tasks, including web development, data science, machine learning, scripting, automation, and more.\\n    * **Supports Multiple Programming Paradigms:** It supports object-oriented, procedural, and functional programming styles, giving you flexibility in how you approach problem-solving.\\n\\n* **Extensive Libraries and Frameworks:**\\n    * **\"Batteries Included\":** Python comes with a vast standard library that provides pre-built modules for many common tasks.\\n    * **Thriving Ecosystem:** There\\'s a huge ecosystem of third-party libraries and frameworks like NumPy, pandas, scikit-learn (for data science), Django and Flask (for web development), and TensorFlow and PyTorch (for machine learning). This drastically speeds up development.\\n\\n* **Rapid Prototyping:**\\n    * **Dynamic Typing:** You don\\'t need to declare variable types explicitly, which makes development faster, especially during the early stages of a project.\\n    * **Interactive Mode:** Python\\'s interactive interpreter makes it easy to experiment with code snippets and test ideas quickly.\\n\\n* **Cross-Platform Compatibility:**\\n    * **Runs on Multiple Operating Systems:** Python code can run on Windows, macOS, Linux, and other platforms with minimal modifications.\\n\\n* **Large Talent Pool:**\\n    * **Many Python Developers:** Due to its popularity, it\\'s relatively easier to find skilled Python developers for your team.\\n\\n**Cons of Python:**\\n\\n* **Performance Limitations:**\\n    * **Slower Execution Speed:** Python is generally slower than compiled languages like C++ or Java. This is because it\\'s an interpreted language and has dynamic typing, which introduces overhead.\\n    * **Global Interpreter Lock (GIL):** The GIL can limit the performance of multithreaded Python programs, especially when dealing with CPU-bound tasks.\\n\\n* **Mobile Development Challenges:**\\n    * **Not Ideal for Native Mobile Apps:** While there are frameworks to create mobile apps with Python, they are not as performant or widely used as native development tools.\\n\\n* **Dynamic Typing Issues:**\\n    * **Type Errors at Runtime:** Because types are checked at runtime, type errors may not be caught until the program is actually running, which can lead to bugs.\\n    * **Debugging Can Be Tricky:** Dynamic typing can sometimes make debugging more challenging, especially in large projects.\\n\\n* **Memory Consumption:**\\n    * **Higher Memory Usage:** Python generally uses more memory than some compiled languages due to its dynamic nature and object-oriented design.\\n\\n* **Not Ideal for Certain Performance-Critical Applications:**\\n    * **Not Suitable for High-Performance Computing (HPC):** For applications that require maximum performance (like real-time simulations), languages like C++ or Fortran are often preferred.\\n    * **Less Control over Hardware:** Python doesn\\'t give you as much direct control over hardware resources as some lower-level languages.\\n\\n* **Version Compatibility Issues:**\\n    * **Python 2 vs Python 3:** While Python 3 is the current standard, there can still be compatibility issues with older Python 2 code.\\n\\n**In Summary:**\\n\\nPython is a powerful and versatile language with many advantages, especially for beginners and for projects where rapid development and readability are crucial. However, it\\'s important to be aware of its limitations, especially regarding performance.\\n\\n**When to Choose Python:**\\n\\n* Web development (backend)\\n* Data science, machine learning, artificial intelligence\\n* Scripting and automation\\n* Prototyping\\n* Educational purposes**When to Consider Alternatives:**\\n\\n* Performance-critical applications (e.g., high-frequency trading, real-time systems)\\n* Mobile app development (native)\\n* Embedded systems\\n* Applications requiring very low-level control over hardware\\n\\nUltimately, the best programming language depends on the specific requirements of your project. Understanding the pros and cons of Python will help you make informed decisions.', additional_kwargs={}, response_metadata={'safety_ratings': [{'category': 'HARM_CATEGORY_HATE_SPEECH', 'probability': 'NEGLIGIBLE', 'blocked': False}, {'category': 'HARM_CATEGORY_DANGEROUS_CONTENT', 'probability': 'NEGLIGIBLE', 'blocked': False}, {'category': 'HARM_CATEGORY_HARASSMENT', 'probability': 'NEGLIGIBLE', 'blocked': False}, {'category': 'HARM_CATEGORY_SEXUALLY_EXPLICIT', 'probability': 'NEGLIGIBLE', 'blocked': False}, {'category': 'HARM_CATEGORY_HATE_SPEECH', 'probability': 'NEGLIGIBLE', 'blocked': False}, {'category': 'HARM_CATEGORY_DANGEROUS_CONTENT', 'probability': 'NEGLIGIBLE', 'blocked': False}, {'category': 'HARM_CATEGORY_HARASSMENT', 'probability': 'NEGLIGIBLE', 'blocked': False}, {'category': 'HARM_CATEGORY_SEXUALLY_EXPLICIT', 'probability': 'NEGLIGIBLE', 'blocked': False}, {'category': 'HARM_CATEGORY_HATE_SPEECH', 'probability': 'NEGLIGIBLE', 'blocked': False}, {'category': 'HARM_CATEGORY_DANGEROUS_CONTENT', 'probability': 'NEGLIGIBLE', 'blocked': False}, {'category': 'HARM_CATEGORY_HARASSMENT', 'probability': 'NEGLIGIBLE', 'blocked': False}, {'category': 'HARM_CATEGORY_SEXUALLY_EXPLICIT', 'probability': 'NEGLIGIBLE', 'blocked': False}, {'category': 'HARM_CATEGORY_HATE_SPEECH', 'probability': 'NEGLIGIBLE', 'blocked': False}, {'category': 'HARM_CATEGORY_DANGEROUS_CONTENT', 'probability': 'NEGLIGIBLE', 'blocked': False}, {'category': 'HARM_CATEGORY_HARASSMENT', 'probability': 'NEGLIGIBLE', 'blocked': False}, {'category': 'HARM_CATEGORY_SEXUALLY_EXPLICIT', 'probability': 'NEGLIGIBLE', 'blocked': False}, {'category': 'HARM_CATEGORY_HATE_SPEECH', 'probability': 'NEGLIGIBLE', 'blocked': False}, {'category': 'HARM_CATEGORY_DANGEROUS_CONTENT', 'probability': 'NEGLIGIBLE', 'blocked': False}, {'category': 'HARM_CATEGORY_HARASSMENT', 'probability': 'NEGLIGIBLE', 'blocked': False}, {'category': 'HARM_CATEGORY_SEXUALLY_EXPLICIT', 'probability': 'NEGLIGIBLE', 'blocked': False}, {'category': 'HARM_CATEGORY_HATE_SPEECH', 'probability': 'NEGLIGIBLE', 'blocked': False}, {'category': 'HARM_CATEGORY_DANGEROUS_CONTENT', 'probability': 'NEGLIGIBLE', 'blocked': False}, {'category': 'HARM_CATEGORY_HARASSMENT', 'probability': 'NEGLIGIBLE', 'blocked': False}, {'category': 'HARM_CATEGORY_SEXUALLY_EXPLICIT', 'probability': 'NEGLIGIBLE', 'blocked': False}, {'category': 'HARM_CATEGORY_HATE_SPEECH', 'probability': 'NEGLIGIBLE', 'blocked': False}, {'category': 'HARM_CATEGORY_DANGEROUS_CONTENT', 'probability': 'NEGLIGIBLE', 'blocked': False}, {'category': 'HARM_CATEGORY_HARASSMENT', 'probability': 'NEGLIGIBLE', 'blocked': False}, {'category': 'HARM_CATEGORY_SEXUALLY_EXPLICIT', 'probability': 'NEGLIGIBLE', 'blocked': False}, {'category': 'HARM_CATEGORY_HATE_SPEECH', 'probability': 'NEGLIGIBLE', 'blocked': False}, {'category': 'HARM_CATEGORY_DANGEROUS_CONTENT', 'probability': 'NEGLIGIBLE', 'blocked': False}, {'category': 'HARM_CATEGORY_HARASSMENT', 'probability': 'NEGLIGIBLE', 'blocked': False}, {'category': 'HARM_CATEGORY_SEXUALLY_EXPLICIT', 'probability': 'NEGLIGIBLE', 'blocked': False}, {'category': 'HARM_CATEGORY_HATE_SPEECH', 'probability': 'NEGLIGIBLE', 'blocked': False}, {'category': 'HARM_CATEGORY_DANGEROUS_CONTENT', 'probability': 'NEGLIGIBLE', 'blocked': False}, {'category': 'HARM_CATEGORY_HARASSMENT', 'probability': 'NEGLIGIBLE', 'blocked': False}, {'category': 'HARM_CATEGORY_SEXUALLY_EXPLICIT', 'probability': 'NEGLIGIBLE', 'blocked': False}, {'category': 'HARM_CATEGORY_HATE_SPEECH', 'probability': 'NEGLIGIBLE', 'blocked': False}, {'category': 'HARM_CATEGORY_DANGEROUS_CONTENT', 'probability': 'NEGLIGIBLE', 'blocked': False}, {'category': 'HARM_CATEGORY_HARASSMENT', 'probability': 'NEGLIGIBLE', 'blocked': False}, {'category': 'HARM_CATEGORY_SEXUALLY_EXPLICIT', 'probability': 'NEGLIGIBLE', 'blocked': False}, {'category': 'HARM_CATEGORY_HATE_SPEECH', 'probability': 'NEGLIGIBLE', 'blocked': False}, {'category': 'HARM_CATEGORY_DANGEROUS_CONTENT', 'probability': 'NEGLIGIBLE', 'blocked': False}, {'category': 'HARM_CATEGORY_HARASSMENT', 'probability': 'NEGLIGIBLE', 'blocked': False}, {'category': 'HARM_CATEGORY_SEXUALLY_EXPLICIT', 'probability': 'NEGLIGIBLE', 'blocked': False}, {'category': 'HARM_CATEGORY_HATE_SPEECH', 'probability': 'NEGLIGIBLE', 'blocked': False}, {'category': 'HARM_CATEGORY_DANGEROUS_CONTENT', 'probability': 'NEGLIGIBLE', 'blocked': False}, {'category': 'HARM_CATEGORY_HARASSMENT', 'probability': 'NEGLIGIBLE', 'blocked': False}, {'category': 'HARM_CATEGORY_SEXUALLY_EXPLICIT', 'probability': 'NEGLIGIBLE', 'blocked': False}, {'category': 'HARM_CATEGORY_HATE_SPEECH', 'probability': 'NEGLIGIBLE', 'blocked': False}, {'category': 'HARM_CATEGORY_DANGEROUS_CONTENT', 'probability': 'NEGLIGIBLE', 'blocked': False}, {'category': 'HARM_CATEGORY_HARASSMENT', 'probability': 'NEGLIGIBLE', 'blocked': False}, {'category': 'HARM_CATEGORY_SEXUALLY_EXPLICIT', 'probability': 'NEGLIGIBLE', 'blocked': False}, {'category': 'HARM_CATEGORY_HATE_SPEECH', 'probability': 'NEGLIGIBLE', 'blocked': False}, {'category': 'HARM_CATEGORY_DANGEROUS_CONTENT', 'probability': 'NEGLIGIBLE', 'blocked': False}, {'category': 'HARM_CATEGORY_HARASSMENT', 'probability': 'NEGLIGIBLE', 'blocked': False}, {'category': 'HARM_CATEGORY_SEXUALLY_EXPLICIT', 'probability': 'NEGLIGIBLE', 'blocked': False}, {'category': 'HARM_CATEGORY_HATE_SPEECH', 'probability': 'NEGLIGIBLE', 'blocked': False}, {'category': 'HARM_CATEGORY_DANGEROUS_CONTENT', 'probability': 'NEGLIGIBLE', 'blocked': False}, {'category': 'HARM_CATEGORY_HARASSMENT', 'probability': 'NEGLIGIBLE', 'blocked': False}, {'category': 'HARM_CATEGORY_SEXUALLY_EXPLICIT', 'probability': 'NEGLIGIBLE', 'blocked': False}, {'category': 'HARM_CATEGORY_HATE_SPEECH', 'probability': 'NEGLIGIBLE', 'blocked': False}, {'category': 'HARM_CATEGORY_DANGEROUS_CONTENT', 'probability': 'NEGLIGIBLE', 'blocked': False}, {'category': 'HARM_CATEGORY_HARASSMENT', 'probability': 'NEGLIGIBLE', 'blocked': False}, {'category': 'HARM_CATEGORY_SEXUALLY_EXPLICIT', 'probability': 'NEGLIGIBLE', 'blocked': False}, {'category': 'HARM_CATEGORY_HATE_SPEECH', 'probability': 'NEGLIGIBLE', 'blocked': False}, {'category': 'HARM_CATEGORY_DANGEROUS_CONTENT', 'probability': 'NEGLIGIBLE', 'blocked': False}, {'category': 'HARM_CATEGORY_HARASSMENT', 'probability': 'NEGLIGIBLE', 'blocked': False}, {'category': 'HARM_CATEGORY_SEXUALLY_EXPLICIT', 'probability': 'NEGLIGIBLE', 'blocked': False}, {'category': 'HARM_CATEGORY_HATE_SPEECH', 'probability': 'NEGLIGIBLE', 'blocked': False}, {'category': 'HARM_CATEGORY_DANGEROUS_CONTENT', 'probability': 'NEGLIGIBLE', 'blocked': False}, {'category': 'HARM_CATEGORY_HARASSMENT', 'probability': 'NEGLIGIBLE', 'blocked': False}, {'category': 'HARM_CATEGORY_SEXUALLY_EXPLICIT', 'probability': 'NEGLIGIBLE', 'blocked': False}, {'category': 'HARM_CATEGORY_HATE_SPEECH', 'probability': 'NEGLIGIBLE', 'blocked': False}, {'category': 'HARM_CATEGORY_DANGEROUS_CONTENT', 'probability': 'NEGLIGIBLE', 'blocked': False}, {'category': 'HARM_CATEGORY_HARASSMENT', 'probability': 'NEGLIGIBLE', 'blocked': False}, {'category': 'HARM_CATEGORY_SEXUALLY_EXPLICIT', 'probability': 'NEGLIGIBLE', 'blocked': False}, {'category': 'HARM_CATEGORY_HATE_SPEECH', 'probability': 'NEGLIGIBLE', 'blocked': False}, {'category': 'HARM_CATEGORY_DANGEROUS_CONTENT', 'probability': 'NEGLIGIBLE', 'blocked': False}, {'category': 'HARM_CATEGORY_HARASSMENT', 'probability': 'NEGLIGIBLE', 'blocked': False}, {'category': 'HARM_CATEGORY_SEXUALLY_EXPLICIT', 'probability': 'NEGLIGIBLE', 'blocked': False}], 'finish_reason': 'STOP'}, id='run-81893d45-d8ea-4f3d-8018-d495bba72f7d', usage_metadata={'input_tokens': 16, 'output_tokens': 1033, 'total_tokens': 1049, 'input_token_details': {'cache_read': 0}})"
            ]
          },
          "metadata": {},
          "execution_count": 42
        }
      ]
    },
    {
      "cell_type": "markdown",
      "source": [
        "### GROQ_API_KEY\n",
        "\n",
        "https://python.langchain.com/v0.1/docs/integrations/chat/groq/\n",
        "\n",
        "https://console.groq.com/docs/models"
      ],
      "metadata": {
        "id": "T_rMWIyEKnx4"
      }
    },
    {
      "cell_type": "code",
      "source": [
        "%pip install -qU langchain-groq"
      ],
      "metadata": {
        "id": "i4caM5F4LPpQ"
      },
      "execution_count": 116,
      "outputs": []
    },
    {
      "cell_type": "code",
      "source": [
        "from google.colab import userdata\n",
        "api_key = userdata.get('GROQ_API_KEY')"
      ],
      "metadata": {
        "id": "92SCtBhBa2Av"
      },
      "execution_count": 117,
      "outputs": []
    },
    {
      "cell_type": "code",
      "source": [
        "from langchain_core.prompts import ChatPromptTemplate\n",
        "from langchain_groq import ChatGroq\n",
        "\n",
        "chat = ChatGroq(\n",
        "    api_key=api_key,\n",
        "    model=\"gemma2-9b-it\",\n",
        "    temperature=0.5,\n",
        "    max_tokens=None,\n",
        "    timeout=None,\n",
        "    max_retries=2\n",
        ")"
      ],
      "metadata": {
        "id": "U52rIDYPNL3K"
      },
      "execution_count": 123,
      "outputs": []
    },
    {
      "cell_type": "code",
      "source": [
        "system = \"You are a helpful assistant.\"\n",
        "human = \"[what should i do today]\"\n",
        "prompt = ChatPromptTemplate.from_messages([(\"system\", system), (\"human\", human)])\n",
        "\n",
        "chain = prompt | chat\n",
        "response = chain.invoke({\"text\": \"Explain the importance of low latency LLMs.\"})"
      ],
      "metadata": {
        "id": "eybd6JI8Qf4C"
      },
      "execution_count": 124,
      "outputs": []
    },
    {
      "cell_type": "code",
      "source": [
        "response"
      ],
      "metadata": {
        "colab": {
          "base_uri": "https://localhost:8080/"
        },
        "id": "fbL5CPa3Qf_T",
        "outputId": "b5626f14-7ba3-4fa1-c3e7-9075d4cc896a"
      },
      "execution_count": 125,
      "outputs": [
        {
          "output_type": "execute_result",
          "data": {
            "text/plain": [
              "AIMessage(content=\"As a helpful assistant, I need a little more information to give you the best suggestions!  \\n\\nTell me:\\n\\n* **What kind of day are you hoping for?** Relaxing? Productive? Adventurous?\\n* **What's the weather like?**  Sunny and warm? Rainy and cozy? \\n* **Do you have any obligations today?** Work, errands, appointments?\\n* **Are you alone or with others?** \\n* **What are some things you enjoy doing?** \\n\\nOnce I have a better idea of what you're looking for, I can give you some personalized recommendations! 😊  \\n\\n\", additional_kwargs={}, response_metadata={'token_usage': {'completion_tokens': 136, 'prompt_tokens': 22, 'total_tokens': 158, 'completion_time': 0.247272727, 'prompt_time': 0.000135529, 'queue_time': 0.019160229, 'total_time': 0.247408256}, 'model_name': 'gemma2-9b-it', 'system_fingerprint': 'fp_10c08bf97d', 'finish_reason': 'stop', 'logprobs': None}, id='run-57f203f9-374a-4336-911f-38ee6decf9da-0', usage_metadata={'input_tokens': 22, 'output_tokens': 136, 'total_tokens': 158})"
            ]
          },
          "metadata": {},
          "execution_count": 125
        }
      ]
    },
    {
      "cell_type": "markdown",
      "source": [
        "### Mistral\n",
        "https://docs.mistral.ai/api/\n",
        "\n",
        "https://python.langchain.com/docs/integrations/chat/mistralai/"
      ],
      "metadata": {
        "id": "_RCKwRrrM1uh"
      }
    },
    {
      "cell_type": "code",
      "source": [
        "%pip install -qU langchain_mistralai"
      ],
      "metadata": {
        "id": "AqORNUgYM3yJ"
      },
      "execution_count": 94,
      "outputs": []
    },
    {
      "cell_type": "code",
      "source": [
        "from google.colab import userdata\n",
        "api_key = userdata.get('Mistral_API_KEY')"
      ],
      "metadata": {
        "id": "w1co6j4nNnVB"
      },
      "execution_count": 112,
      "outputs": []
    },
    {
      "cell_type": "code",
      "source": [
        "from langchain_mistralai import ChatMistralAI\n",
        "\n",
        "llm = ChatMistralAI(\n",
        "    api_key=api_key,\n",
        "    model=\"pixtral-12b-2409\",\n",
        "    temperature=0,\n",
        "    max_retries=2,\n",
        "    # other params...\n",
        ")"
      ],
      "metadata": {
        "id": "p-cWByURM3_y"
      },
      "execution_count": 113,
      "outputs": []
    },
    {
      "cell_type": "code",
      "source": [
        "messages = [(\n",
        "    \"system\",\n",
        "    \"You are a helpful assistant that translates English to French. Translate the user sentence.\",),\n",
        "    (\"human\",\n",
        "     \"I love programming.\"),\n",
        "]\n",
        "\n",
        "ai_msg = llm.invoke(messages)"
      ],
      "metadata": {
        "id": "bI7L2IBoLgYP"
      },
      "execution_count": 114,
      "outputs": []
    },
    {
      "cell_type": "code",
      "source": [
        "print(ai_msg.content)"
      ],
      "metadata": {
        "colab": {
          "base_uri": "https://localhost:8080/"
        },
        "id": "qCyxBK0oMm53",
        "outputId": "c21861a2-ee51-4c02-ccfd-7000ad503975"
      },
      "execution_count": 115,
      "outputs": [
        {
          "output_type": "stream",
          "name": "stdout",
          "text": [
            "Certainly! The English sentence \"I love programming\" translates to French as:\n",
            "\n",
            "\"J'adore la programmation.\"\n",
            "\n",
            "Would you like to know anything else?\n"
          ]
        }
      ]
    },
    {
      "cell_type": "markdown",
      "source": [
        "### Tavily\n",
        "is a search engine not LLM is a tool\n",
        "\n",
        "https://app.tavily.com/home?code=ndBdfMgbVIOBxXC9KR0fOMUDm3MWJi5tWl-oSCdZHSIRm&state=eyJyZXR1cm5UbyI6Ii9ob21lIn0\n",
        "\n",
        "https://python.langchain.com/docs/integrations/tools/tavily_search/"
      ],
      "metadata": {
        "id": "vgzUjArdR2zb"
      }
    },
    {
      "cell_type": "code",
      "source": [
        "%pip install -qU \"langchain-community>=0.2.11\" tavily-python"
      ],
      "metadata": {
        "colab": {
          "base_uri": "https://localhost:8080/"
        },
        "id": "y3U2RVttNqvf",
        "outputId": "6d55f373-1c52-46ba-a96f-89833529da39"
      },
      "execution_count": 1,
      "outputs": [
        {
          "output_type": "stream",
          "name": "stdout",
          "text": [
            "\u001b[2K   \u001b[90m━━━━━━━━━━━━━━━━━━━━━━━━━━━━━━━━━━━━━━━━\u001b[0m \u001b[32m2.5/2.5 MB\u001b[0m \u001b[31m24.4 MB/s\u001b[0m eta \u001b[36m0:00:00\u001b[0m\n",
            "\u001b[2K   \u001b[90m━━━━━━━━━━━━━━━━━━━━━━━━━━━━━━━━━━━━━━━━\u001b[0m \u001b[32m1.2/1.2 MB\u001b[0m \u001b[31m21.1 MB/s\u001b[0m eta \u001b[36m0:00:00\u001b[0m\n",
            "\u001b[2K   \u001b[90m━━━━━━━━━━━━━━━━━━━━━━━━━━━━━━━━━━━━━━━━\u001b[0m \u001b[32m49.6/49.6 kB\u001b[0m \u001b[31m1.3 MB/s\u001b[0m eta \u001b[36m0:00:00\u001b[0m\n",
            "\u001b[?25h"
          ]
        }
      ]
    },
    {
      "cell_type": "code",
      "source": [
        "from google.colab import userdata\n",
        "import os\n",
        "# tavily_api_key = userdata.get('TAVILY_API_KEY')\n",
        "\n",
        "# set as envoirnment variable\n",
        "os.environ[\"TAVILY_API_KEY\"] = userdata.get('TAVILY_API_KEY')"
      ],
      "metadata": {
        "id": "cI58h1AWgDtj"
      },
      "execution_count": 8,
      "outputs": []
    },
    {
      "cell_type": "code",
      "source": [
        "from langchain_community.tools import TavilySearchResults\n",
        "\n",
        "tool = TavilySearchResults(\n",
        "    max_results=5,\n",
        "    search_depth=\"advanced\",\n",
        "    include_answer=True,\n",
        "    include_raw_content=True,\n",
        "    include_images=True,\n",
        "    # include_domains=[...],\n",
        "    # exclude_domains=[...],\n",
        "    # name=\"...\",            # overwrite default tool name\n",
        "    # description=\"...\",     # overwrite default tool description\n",
        "    # args_schema=...,       # overwrite default args_schema: BaseModel\n",
        ")"
      ],
      "metadata": {
        "id": "TlMZ5ZlRgLE9"
      },
      "execution_count": 9,
      "outputs": []
    },
    {
      "cell_type": "code",
      "source": [
        "response = tool.invoke({\"query\": \"What happened at the last newyear\"})"
      ],
      "metadata": {
        "id": "Yz-RY4jYgLHh"
      },
      "execution_count": 10,
      "outputs": []
    },
    {
      "cell_type": "code",
      "source": [
        "response"
      ],
      "metadata": {
        "colab": {
          "base_uri": "https://localhost:8080/"
        },
        "id": "Sja2v9RLlchO",
        "outputId": "7373ad84-3477-488e-dac6-038ddd9a8d8b"
      },
      "execution_count": 11,
      "outputs": [
        {
          "output_type": "execute_result",
          "data": {
            "text/plain": [
              "[{'url': 'https://www.timessquarenyc.org/nye/nye-history-times-square-ball',\n",
              "  'content': \"The first New Year's Eve Ball, made of iron and wood and adorned with one hundred 25-watt light bulbs, was 5 feet in diameter and weighed 700 pounds. ... but the aluminum Ball was lowered for the last time in 1998. For Times Square 2000, the millennium celebration at the Crossroads of the World, the New Year's Eve Ball was completely redesigned\"},\n",
              " {'url': 'https://www.nytimes.com/2025/01/16/nyregion/new-years-eve-ball-times-square.html',\n",
              "  'content': 'The ball had been resting comfortably where it had landed on New Year\\'s Eve: at the foot of a 139-foot pole, behind the digits \"2025.\" But the ball had to go up one last time to come back down.'},\n",
              " {'url': 'https://www.usnews.com/news/us/articles/2025-01-01/what-we-know-after-a-driver-crashes-into-pedestrians-on-new-orleans-bourbon-street-killing-10',\n",
              "  'content': 'Police said Jabbar sped around a police blockade and raced through a crowd around 3:15 a.m. Wednesday along Bourbon Street, where people had gathered to celebrate the New Year. In addition to the'},\n",
              " {'url': 'https://www.nbcnewyork.com/news/local/times-square-new-years-eve-ball-final-descent/6110442/',\n",
              "  'content': \"The new year marks a new look for the world's most famous New Year's Eve ball. The timeless Times Square treasure made its final descent Wednesday, coming down from its perch on a pole atop 1\"},\n",
              " {'url': 'https://nypost.com/2024/01/01/metro/nyc-times-square-ball-drop-brings-in-thousands-of-people-for-new-year/',\n",
              "  'content': \"After standing in New York City's Times Square for more than a dozen hours, thousands of revelers cheered in the New Year on Sunday night with the annual ceremony of a descending crystal-clad…\"}]"
            ]
          },
          "metadata": {},
          "execution_count": 11
        }
      ]
    },
    {
      "cell_type": "code",
      "source": [
        "# invoke with tool call\n",
        "\n",
        "# This is usually generated by a model, but we'll create a tool call directly for demo purposes.\n",
        "model_generated_tool_call = {\n",
        "    \"args\": {\"query\": \"euro 2024 host nation\"},\n",
        "    \"id\": \"1\",\n",
        "    \"name\": \"tavily\",\n",
        "    \"type\": \"tool_call\",\n",
        "}\n",
        "tool_msg = tool.invoke(model_generated_tool_call)\n",
        "\n",
        "# The content is a JSON string of results\n",
        "print(tool_msg.content[:400])"
      ],
      "metadata": {
        "colab": {
          "base_uri": "https://localhost:8080/"
        },
        "id": "75AZaKUHldMR",
        "outputId": "7db0e5a2-62dc-4efb-89fa-d9a84c635710"
      },
      "execution_count": 13,
      "outputs": [
        {
          "output_type": "stream",
          "name": "stdout",
          "text": [
            "[{\"url\": \"https://www.uefa.com/euro2024/news/0257-0e13b161b2e8-4a3fd5615e0c-1000--euro-2024-all-you-need-to-know/\", \"content\": \"As the host nation, Germany were seeded in Group A and occupied position A1; ... Get the lowdown on the EURO 2024 host cities and stadiums with our venue guides. Live 14/07/2024\"}, {\"url\": \"https://www.sportingnews.com/uk/football/news/list-euros-host-nations-uefa-europea\n"
          ]
        }
      ]
    },
    {
      "cell_type": "code",
      "source": [
        "# The artifact is a dict with richer, raw results\n",
        "{k: type(v) for k, v in tool_msg.artifact.items()}"
      ],
      "metadata": {
        "colab": {
          "base_uri": "https://localhost:8080/"
        },
        "id": "jbAs1ja4lo8c",
        "outputId": "adf71135-5e1e-44e1-dec3-865e1c3936c4"
      },
      "execution_count": 14,
      "outputs": [
        {
          "output_type": "execute_result",
          "data": {
            "text/plain": [
              "{'query': str,\n",
              " 'follow_up_questions': NoneType,\n",
              " 'answer': str,\n",
              " 'images': list,\n",
              " 'results': list,\n",
              " 'response_time': float}"
            ]
          },
          "metadata": {},
          "execution_count": 14
        }
      ]
    },
    {
      "cell_type": "code",
      "source": [],
      "metadata": {
        "id": "-iyY7ECglzZ0"
      },
      "execution_count": null,
      "outputs": []
    }
  ]
}